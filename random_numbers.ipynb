{
 "cells": [
  {
   "cell_type": "code",
   "execution_count": 22,
   "id": "9210313c",
   "metadata": {},
   "outputs": [],
   "source": [
    "#6.1.4 - Random Latitude\n",
    "\n",
    "# Import the random module.\n",
    "import random\n",
    "\n",
    "# Import the NumPy module (when importing NumPy, there is no need to import random).\n",
    "import numpy as np\n",
    "\n",
    "# Import the Timeit function\n",
    "import timeit"
   ]
  },
  {
   "cell_type": "code",
   "execution_count": 23,
   "id": "7b98a9f7",
   "metadata": {},
   "outputs": [
    {
     "data": {
      "text/plain": [
       "35"
      ]
     },
     "execution_count": 23,
     "metadata": {},
     "output_type": "execute_result"
    }
   ],
   "source": [
    "# Using the RANDINT function\n",
    "random.randint(-90,90)"
   ]
  },
  {
   "cell_type": "code",
   "execution_count": 24,
   "id": "a9d4def2",
   "metadata": {},
   "outputs": [
    {
     "data": {
      "text/plain": [
       "0.6935347333407531"
      ]
     },
     "execution_count": 24,
     "metadata": {},
     "output_type": "execute_result"
    }
   ],
   "source": [
    "#Using the RANDOM function\n",
    "random.random()"
   ]
  },
  {
   "cell_type": "code",
   "execution_count": 25,
   "id": "42fbaa0f",
   "metadata": {},
   "outputs": [
    {
     "data": {
      "text/plain": [
       "-19.40930353137765"
      ]
     },
     "execution_count": 25,
     "metadata": {},
     "output_type": "execute_result"
    }
   ],
   "source": [
    "# RANDINT and RANDOM together\n",
    "random_number = random.randint(-90, 89) + random.random()\n",
    "random_number"
   ]
  },
  {
   "cell_type": "code",
   "execution_count": 26,
   "id": "7a7bdb43",
   "metadata": {},
   "outputs": [
    {
     "data": {
      "text/plain": [
       "[38.85432407653278,\n",
       " 12.726733519984702,\n",
       " -8.042757158893211,\n",
       " -82.08857829748042,\n",
       " -44.141342590598846,\n",
       " -23.387716588104663,\n",
       " -53.205659533998016,\n",
       " 59.016355774877454,\n",
       " -32.92156750050923,\n",
       " -49.53961797539651]"
      ]
     },
     "execution_count": 26,
     "metadata": {},
     "output_type": "execute_result"
    }
   ],
   "source": [
    "# Generating 10 random numbers\n",
    "x = 1\n",
    "latitudes = []\n",
    "while x < 11:\n",
    "    random_lat = random.randint(-90, 89) + random.random()\n",
    "    latitudes.append(random_lat)\n",
    "    x += 1\n",
    "    \n",
    "latitudes"
   ]
  },
  {
   "cell_type": "code",
   "execution_count": 27,
   "id": "d5a361b3",
   "metadata": {},
   "outputs": [
    {
     "data": {
      "text/plain": [
       "-63"
      ]
     },
     "execution_count": 27,
     "metadata": {},
     "output_type": "execute_result"
    }
   ],
   "source": [
    "# Using the RANDRANGE function\n",
    "random.randrange(-90, 90, step=3)"
   ]
  },
  {
   "cell_type": "code",
   "execution_count": 28,
   "id": "ea8c1333",
   "metadata": {},
   "outputs": [
    {
     "data": {
      "text/plain": [
       "-24.7507456095762"
      ]
     },
     "execution_count": 28,
     "metadata": {},
     "output_type": "execute_result"
    }
   ],
   "source": [
    "# Using the UNIFORM function\n",
    "random.uniform(-90,90)"
   ]
  },
  {
   "cell_type": "code",
   "execution_count": 29,
   "id": "1add5cfa",
   "metadata": {},
   "outputs": [
    {
     "data": {
      "text/plain": [
       "-85.77851855533103"
      ]
     },
     "execution_count": 29,
     "metadata": {},
     "output_type": "execute_result"
    }
   ],
   "source": [
    "# Using NumPy option 1\n",
    "np.random.uniform(-90.000,90.000)"
   ]
  },
  {
   "cell_type": "code",
   "execution_count": 30,
   "id": "2da97f07",
   "metadata": {},
   "outputs": [
    {
     "data": {
      "text/plain": [
       "-39.52095360442416"
      ]
     },
     "execution_count": 30,
     "metadata": {},
     "output_type": "execute_result"
    }
   ],
   "source": [
    "# Using NumPy option 2\n",
    "np.random.uniform(low=-90, high=90)"
   ]
  },
  {
   "cell_type": "code",
   "execution_count": 31,
   "id": "a6a4754f",
   "metadata": {},
   "outputs": [
    {
     "data": {
      "text/plain": [
       "array([ 70.26982211, -79.76862736,  58.90277338,  70.87543976,\n",
       "       -65.912334  , -78.75153405, -48.71016973, -14.49511048,\n",
       "        34.654402  ,  48.99751369,  29.12126437,  28.7558276 ,\n",
       "        30.89209718,  29.41248979, -84.33544884,  79.54485225,\n",
       "       -73.33406796, -89.31063097, -89.70335522, -76.56596729,\n",
       "         0.81902606,  77.6472468 ,   1.45039533,  85.15640982,\n",
       "       -16.80525843,   2.30903905,  28.44276658, -18.53873486,\n",
       "        89.18589864,  20.74597748,  80.827032  ,   8.1529005 ,\n",
       "        77.66587539,  44.8251545 , -28.534754  ,  51.66297296,\n",
       "        -5.71429489,  69.13010549, -62.2204332 , -36.54774524,\n",
       "        17.99743205, -45.04689766, -55.50480605, -36.68816578,\n",
       "         6.208147  , -81.68064342, -77.64956842,  14.63155432,\n",
       "        27.56079476,  54.57730887])"
      ]
     },
     "execution_count": 31,
     "metadata": {},
     "output_type": "execute_result"
    }
   ],
   "source": [
    "# Adding SIZE function to MumPy\n",
    "np.random.uniform(-90.000, 90.000, size=50)"
   ]
  },
  {
   "cell_type": "code",
   "execution_count": 32,
   "id": "0c8e7836",
   "metadata": {},
   "outputs": [
    {
     "name": "stdout",
     "output_type": "stream",
     "text": [
      "20.7 µs ± 2.96 µs per loop (mean ± std. dev. of 7 runs, 10000 loops each)\n"
     ]
    }
   ],
   "source": [
    "# Using the timeit function, which tells me that it took 20.7 microseconds to run the 1500 array\n",
    "%timeit np.random.uniform(-90.000, 90.000, size=1500)"
   ]
  },
  {
   "cell_type": "code",
   "execution_count": 33,
   "id": "c13c97ff",
   "metadata": {},
   "outputs": [
    {
     "name": "stdout",
     "output_type": "stream",
     "text": [
      "3.08 ms ± 514 µs per loop (mean ± std. dev. of 7 runs, 100 loops each)\n"
     ]
    }
   ],
   "source": [
    "# Using the timeit function to see that it is faster to use the size function than a whole loop.\n",
    "def latitudes(size):\n",
    "    latitudes = []\n",
    "    x = 0\n",
    "    while x < (size):\n",
    "        random_lat = random.randint(-90, 90) + random.random()\n",
    "        latitudes.append(random_lat)\n",
    "        x += 1\n",
    "    return latitudes\n",
    "# Call the function with 1500.\n",
    "%timeit latitudes(1500)"
   ]
  },
  {
   "cell_type": "code",
   "execution_count": null,
   "id": "9e985200",
   "metadata": {},
   "outputs": [],
   "source": []
  }
 ],
 "metadata": {
  "kernelspec": {
   "display_name": "PythonData",
   "language": "python",
   "name": "pythondata"
  },
  "language_info": {
   "codemirror_mode": {
    "name": "ipython",
    "version": 3
   },
   "file_extension": ".py",
   "mimetype": "text/x-python",
   "name": "python",
   "nbconvert_exporter": "python",
   "pygments_lexer": "ipython3",
   "version": "3.7.11"
  }
 },
 "nbformat": 4,
 "nbformat_minor": 5
}
